{
 "cells": [
  {
   "cell_type": "markdown",
   "metadata": {},
   "source": [
    "**Step 1:     \n",
    "Use Inverse Transform Sampling to generate the samples from the conditional distribution**"
   ]
  },
  {
   "cell_type": "markdown",
   "metadata": {},
   "source": [
    "From $P(x|y) \\propto ye^{-yx}$, $0 < x < B < \\infty$, we have $\\int_{0}^{B}Kye^{-yx} = 1$, so $K = \\frac{1}{1-e^{-yB}}$"
   ]
  },
  {
   "cell_type": "markdown",
   "metadata": {},
   "source": [
    "The CDF of this conditional distribution is $F(x|y) = \\frac{1}{1-e^{-yB}} (1- e^{-yx})$"
   ]
  },
  {
   "cell_type": "markdown",
   "metadata": {},
   "source": [
    "The inverse of this CDF is $F^{-1}_{(x|y)}(u) = -\\frac{ln[1-u(1-e^{-yB})]}{y}$"
   ]
  },
  {
   "cell_type": "markdown",
   "metadata": {},
   "source": [
    "Similarly, $F^{-1}_{(y|x)}(u) = -\\frac{ln[1-u(1-e^{-xB})]}{x}$"
   ]
  },
  {
   "cell_type": "markdown",
   "metadata": {},
   "source": [
    "We will use this inverse CDF to generate sample from the given conditonal distribution."
   ]
  },
  {
   "cell_type": "markdown",
   "metadata": {},
   "source": [
    "**Step 2:    \n",
    "Use Gibbs sampler to estimate the marginal distribution, and store results in a matrix.**"
   ]
  },
  {
   "cell_type": "code",
   "execution_count": 23,
   "metadata": {},
   "outputs": [],
   "source": [
    "import numpy as np\n",
    "\n",
    "def InverseCDF(B,theta):\n",
    "    u = np.random.random()\n",
    "    K = 1/(1-np.exp(-theta*B))\n",
    "    x = - np.log(1-u*(1/K))/theta\n",
    "    return x\n",
    "\n",
    "def gibbs(N,B,start_value):\n",
    "    y = start_value\n",
    "    Results = np.zeros((N,3))\n",
    "    Results[:,0] = np.arange(1,N+1)\n",
    "    for i in range(N):\n",
    "        x = InverseCDF(B,y)\n",
    "        y = InverseCDF(B,x)\n",
    "        Results[i,1] = x\n",
    "        Results[i,2] = y\n",
    "    return Results\n",
    "    "
   ]
  },
  {
   "cell_type": "code",
   "execution_count": 24,
   "metadata": {},
   "outputs": [],
   "source": [
    "numpy.set_printoptions(suppress=True)\n",
    "A = gibbs(500,5,1)"
   ]
  },
  {
   "cell_type": "code",
   "execution_count": 25,
   "metadata": {},
   "outputs": [
    {
     "data": {
      "text/plain": [
       "array([[   1.        ,    0.94753213,    1.20798663],\n",
       "       [   2.        ,    0.90053472,    0.37082818],\n",
       "       [   3.        ,    3.97754333,    0.10243929],\n",
       "       ..., \n",
       "       [ 498.        ,    0.08244516,    2.50840595],\n",
       "       [ 499.        ,    1.39730314,    0.4213034 ],\n",
       "       [ 500.        ,    2.2775314 ,    0.55104361]])"
      ]
     },
     "execution_count": 25,
     "metadata": {},
     "output_type": "execute_result"
    }
   ],
   "source": [
    "A"
   ]
  },
  {
   "cell_type": "code",
   "execution_count": 28,
   "metadata": {},
   "outputs": [
    {
     "data": {
      "image/png": "[encoded data removed]",
      "text/plain": [
       "<matplotlib.figure.Figure at 0x251626546d8>"
      ]
     },
     "metadata": {},
     "output_type": "display_data"
    }
   ],
   "source": [
    "import matplotlib.pyplot as plt\n",
    "plt.hist(A[:,1])\n",
    "plt.show()"
   ]
  },
  {
   "cell_type": "code",
   "execution_count": 29,
   "metadata": {},
   "outputs": [
    {
     "data": {
      "text/plain": [
       "1.133391676104202"
      ]
     },
     "execution_count": 29,
     "metadata": {},
     "output_type": "execute_result"
    }
   ],
   "source": [
    "numpy.mean(A[:,1])"
   ]
  },
  {
   "cell_type": "code",
   "execution_count": null,
   "metadata": {
    "collapsed": true
   },
   "outputs": [],
   "source": []
  }
 ],
 "metadata": {
  "kernelspec": {
   "display_name": "Python 3",
   "language": "python",
   "name": "python3"
  },
  "language_info": {
   "codemirror_mode": {
    "name": "ipython",
    "version": 3
   },
   "file_extension": ".py",
   "mimetype": "text/x-python",
   "name": "python",
   "nbconvert_exporter": "python",
   "pygments_lexer": "ipython3",
   "version": "3.6.1"
  }
 },
 "nbformat": 4,
 "nbformat_minor": 2
}
